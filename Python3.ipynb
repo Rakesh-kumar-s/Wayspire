{
  "nbformat": 4,
  "nbformat_minor": 0,
  "metadata": {
    "colab": {
      "provenance": [],
      "authorship_tag": "ABX9TyPl6EwETxmkT9sPk5A65JDk",
      "include_colab_link": true
    },
    "kernelspec": {
      "name": "python3",
      "display_name": "Python 3"
    },
    "language_info": {
      "name": "python"
    }
  },
  "cells": [
    {
      "cell_type": "markdown",
      "metadata": {
        "id": "view-in-github",
        "colab_type": "text"
      },
      "source": [
        "<a href=\"https://colab.research.google.com/github/Rakesh-kumar-s/Wayspire/blob/main/Python3.ipynb\" target=\"_parent\"><img src=\"https://colab.research.google.com/assets/colab-badge.svg\" alt=\"Open In Colab\"/></a>"
      ]
    },
    {
      "cell_type": "code",
      "execution_count": 1,
      "metadata": {
        "id": "Pqk2KLBvMYYP"
      },
      "outputs": [],
      "source": [
        "###List ---> data type"
      ]
    },
    {
      "cell_type": "code",
      "source": [
        "# collection of multiple data type\n",
        "\n",
        "# create\n",
        "list_mix =[1,11,1.25,'python']\n",
        "print(list_mix)\n",
        "type(list_mix)"
      ],
      "metadata": {
        "id": "z12mM8I1NzBG",
        "colab": {
          "base_uri": "https://localhost:8080/"
        },
        "outputId": "b20f60ae-9f7b-4422-b149-1d563e4b73c3"
      },
      "execution_count": 2,
      "outputs": [
        {
          "output_type": "stream",
          "name": "stdout",
          "text": [
            "[1, 11, 1.25, 'python']\n"
          ]
        },
        {
          "output_type": "execute_result",
          "data": {
            "text/plain": [
              "list"
            ]
          },
          "metadata": {},
          "execution_count": 2
        }
      ]
    },
    {
      "cell_type": "code",
      "source": [
        "# Nested list ---> list inside list\n",
        "list_nest=[10,1.25,'python',[1,1.25,'a']]\n",
        "print(list_nest)"
      ],
      "metadata": {
        "id": "ghpNpymQNzJ-",
        "colab": {
          "base_uri": "https://localhost:8080/"
        },
        "outputId": "dec1dff8-94c3-4867-9580-aae46b5b0644"
      },
      "execution_count": 3,
      "outputs": [
        {
          "output_type": "stream",
          "name": "stdout",
          "text": [
            "[10, 1.25, 'python', [1, 1.25, 'a']]\n"
          ]
        }
      ]
    },
    {
      "cell_type": "code",
      "source": [
        "#accessing\n",
        "list_nest[0]"
      ],
      "metadata": {
        "id": "XCOdCW0VNzSF",
        "colab": {
          "base_uri": "https://localhost:8080/"
        },
        "outputId": "7b81701a-c241-445a-aacb-006d616d6d47"
      },
      "execution_count": 4,
      "outputs": [
        {
          "output_type": "execute_result",
          "data": {
            "text/plain": [
              "10"
            ]
          },
          "metadata": {},
          "execution_count": 4
        }
      ]
    },
    {
      "cell_type": "code",
      "source": [
        "list_nest[3]"
      ],
      "metadata": {
        "id": "wrwwQCxLNzaG",
        "colab": {
          "base_uri": "https://localhost:8080/"
        },
        "outputId": "eff24549-db3a-47d5-dea3-1ab3e2b151fc"
      },
      "execution_count": 5,
      "outputs": [
        {
          "output_type": "execute_result",
          "data": {
            "text/plain": [
              "[1, 1.25, 'a']"
            ]
          },
          "metadata": {},
          "execution_count": 5
        }
      ]
    },
    {
      "cell_type": "code",
      "source": [
        "# to find out the location of a known element\n",
        "\n",
        "list_nest.index(10)"
      ],
      "metadata": {
        "colab": {
          "base_uri": "https://localhost:8080/"
        },
        "id": "TdpYfabjZ-kD",
        "outputId": "13b87b60-b5da-4bf9-f3db-3e5172d8d940"
      },
      "execution_count": 6,
      "outputs": [
        {
          "output_type": "execute_result",
          "data": {
            "text/plain": [
              "0"
            ]
          },
          "metadata": {},
          "execution_count": 6
        }
      ]
    },
    {
      "cell_type": "code",
      "source": [
        "list_nest.index('python')"
      ],
      "metadata": {
        "colab": {
          "base_uri": "https://localhost:8080/"
        },
        "id": "Mk9yq4qrasVi",
        "outputId": "f87e822c-fe17-4ad9-c44e-8dd20fc5149d"
      },
      "execution_count": 7,
      "outputs": [
        {
          "output_type": "execute_result",
          "data": {
            "text/plain": [
              "2"
            ]
          },
          "metadata": {},
          "execution_count": 7
        }
      ]
    },
    {
      "cell_type": "code",
      "source": [
        "###Operation\n"
      ],
      "metadata": {
        "id": "n7-i_F8Hasfg"
      },
      "execution_count": 8,
      "outputs": []
    },
    {
      "cell_type": "code",
      "source": [
        "#len\n",
        "#Append\n",
        "#insert\n",
        "#extend\n",
        "#sort\n",
        "#del\n",
        "#clear\n",
        "#reverse\n",
        "#pop\n",
        "#copy"
      ],
      "metadata": {
        "id": "yeYeitNfasoB"
      },
      "execution_count": 9,
      "outputs": []
    },
    {
      "cell_type": "code",
      "source": [
        "len(list_nest)"
      ],
      "metadata": {
        "colab": {
          "base_uri": "https://localhost:8080/"
        },
        "id": "5nmIluWwZ-2q",
        "outputId": "dcbe1665-e386-457e-8c55-80e555448028"
      },
      "execution_count": 10,
      "outputs": [
        {
          "output_type": "execute_result",
          "data": {
            "text/plain": [
              "4"
            ]
          },
          "metadata": {},
          "execution_count": 10
        }
      ]
    },
    {
      "cell_type": "code",
      "source": [
        "#Append ( adding at the end)\n",
        "list_x =[80,90,90.45,'python',\"Java\"]\n",
        "list_x.append(\"Csharp\")\n",
        "list_x"
      ],
      "metadata": {
        "colab": {
          "base_uri": "https://localhost:8080/"
        },
        "id": "VN7OpcA6Z_Ai",
        "outputId": "25ffa623-98c2-4b35-a42e-7e8264dfa91f"
      },
      "execution_count": 11,
      "outputs": [
        {
          "output_type": "execute_result",
          "data": {
            "text/plain": [
              "[80, 90, 90.45, 'python', 'Java', 'Csharp']"
            ]
          },
          "metadata": {},
          "execution_count": 11
        }
      ]
    },
    {
      "cell_type": "code",
      "source": [
        "list_y =[70,\"php\"]\n",
        "list_y"
      ],
      "metadata": {
        "colab": {
          "base_uri": "https://localhost:8080/"
        },
        "id": "3z5eQtujZ_KD",
        "outputId": "26e857d6-c539-4754-f77d-263acbfbca5f"
      },
      "execution_count": 12,
      "outputs": [
        {
          "output_type": "execute_result",
          "data": {
            "text/plain": [
              "[70, 'php']"
            ]
          },
          "metadata": {},
          "execution_count": 12
        }
      ]
    },
    {
      "cell_type": "code",
      "source": [
        "list_x.append(list_y)\n",
        "list_x"
      ],
      "metadata": {
        "colab": {
          "base_uri": "https://localhost:8080/"
        },
        "id": "rGsgt34qdWR0",
        "outputId": "baf71690-a57f-4058-ecd3-aca8b9a92d48"
      },
      "execution_count": 13,
      "outputs": [
        {
          "output_type": "execute_result",
          "data": {
            "text/plain": [
              "[80, 90, 90.45, 'python', 'Java', 'Csharp', [70, 'php']]"
            ]
          },
          "metadata": {},
          "execution_count": 13
        }
      ]
    },
    {
      "cell_type": "code",
      "source": [
        "#insert (inserting /putting a value at a specific location in the list)\n",
        "list_x.insert(2,100)\n",
        "print(list_x)"
      ],
      "metadata": {
        "colab": {
          "base_uri": "https://localhost:8080/"
        },
        "id": "tl7NINDrdWaI",
        "outputId": "1b6ba7f1-77a4-4c8a-fe17-3367a62aa1bf"
      },
      "execution_count": 14,
      "outputs": [
        {
          "output_type": "stream",
          "name": "stdout",
          "text": [
            "[80, 90, 100, 90.45, 'python', 'Java', 'Csharp', [70, 'php']]\n"
          ]
        }
      ]
    },
    {
      "cell_type": "code",
      "source": [
        "list_y =[70,\"php\"]\n",
        "list_y"
      ],
      "metadata": {
        "colab": {
          "base_uri": "https://localhost:8080/"
        },
        "id": "-muTEGszdWgv",
        "outputId": "82d4b12a-7115-4b12-d8ec-389fab186ce9"
      },
      "execution_count": 15,
      "outputs": [
        {
          "output_type": "execute_result",
          "data": {
            "text/plain": [
              "[70, 'php']"
            ]
          },
          "metadata": {},
          "execution_count": 15
        }
      ]
    },
    {
      "cell_type": "code",
      "source": [
        "list_x.append(list_y)\n",
        "list_x"
      ],
      "metadata": {
        "colab": {
          "base_uri": "https://localhost:8080/"
        },
        "id": "c4AZDJNBdWja",
        "outputId": "acd3d1ae-2c26-41f9-c597-4e217a8501b8"
      },
      "execution_count": 16,
      "outputs": [
        {
          "output_type": "execute_result",
          "data": {
            "text/plain": [
              "[80, 90, 100, 90.45, 'python', 'Java', 'Csharp', [70, 'php'], [70, 'php']]"
            ]
          },
          "metadata": {},
          "execution_count": 16
        }
      ]
    },
    {
      "cell_type": "code",
      "source": [
        "#extend ----> add multiple elements\n",
        "list_y.extend(\"Hello\")\n",
        "list_y"
      ],
      "metadata": {
        "colab": {
          "base_uri": "https://localhost:8080/"
        },
        "id": "5ty_w7OUdWlp",
        "outputId": "9c2dadbd-dd45-4462-c04f-2d0ce2aa0eb3"
      },
      "execution_count": 17,
      "outputs": [
        {
          "output_type": "execute_result",
          "data": {
            "text/plain": [
              "[70, 'php', 'H', 'e', 'l', 'l', 'o']"
            ]
          },
          "metadata": {},
          "execution_count": 17
        }
      ]
    },
    {
      "cell_type": "code",
      "source": [
        "list_y.extend([80,90])\n",
        "list_y"
      ],
      "metadata": {
        "colab": {
          "base_uri": "https://localhost:8080/"
        },
        "id": "UT45xo6ydWnk",
        "outputId": "92c7ec7a-cfdd-4bb5-a207-27f92980e0aa"
      },
      "execution_count": 18,
      "outputs": [
        {
          "output_type": "execute_result",
          "data": {
            "text/plain": [
              "[70, 'php', 'H', 'e', 'l', 'l', 'o', 80, 90]"
            ]
          },
          "metadata": {},
          "execution_count": 18
        }
      ]
    },
    {
      "cell_type": "code",
      "source": [
        "list_p = [2,5]\n",
        "list_q = ['xyz' ,'pqr']\n",
        "\n",
        "list_p.extend(list_q)\n",
        "list_p"
      ],
      "metadata": {
        "colab": {
          "base_uri": "https://localhost:8080/"
        },
        "id": "itRPIKlydWpX",
        "outputId": "8e752907-3b90-4693-91e5-39d9dbbe1011"
      },
      "execution_count": 21,
      "outputs": [
        {
          "output_type": "execute_result",
          "data": {
            "text/plain": [
              "[2, 5, 'xyz', 'pqr']"
            ]
          },
          "metadata": {},
          "execution_count": 21
        }
      ]
    },
    {
      "cell_type": "code",
      "source": [
        "#sort ------> requires some data type\n",
        "list_alph = ['x','t','u','p','y','w','h']\n",
        "list_alph.sort()\n",
        "list_alph\n",
        "\n"
      ],
      "metadata": {
        "colab": {
          "base_uri": "https://localhost:8080/"
        },
        "id": "SwaD4yCCdWrg",
        "outputId": "ec99a51d-5bf8-4001-be4a-24fc83ca24d7"
      },
      "execution_count": 26,
      "outputs": [
        {
          "output_type": "execute_result",
          "data": {
            "text/plain": [
              "['h', 'p', 't', 'u', 'w', 'x', 'y']"
            ]
          },
          "metadata": {},
          "execution_count": 26
        }
      ]
    },
    {
      "cell_type": "code",
      "source": [
        "list_num =[2,8,4,20,67,78]\n",
        "list_num.sort()\n",
        "list_num"
      ],
      "metadata": {
        "colab": {
          "base_uri": "https://localhost:8080/"
        },
        "id": "nl8-iegfdWtL",
        "outputId": "65f9e1f2-b912-48ab-bfa3-ae857767c473"
      },
      "execution_count": 25,
      "outputs": [
        {
          "output_type": "execute_result",
          "data": {
            "text/plain": [
              "[2, 4, 8, 20, 67, 78]"
            ]
          },
          "metadata": {},
          "execution_count": 25
        }
      ]
    },
    {
      "cell_type": "code",
      "source": [
        "# del ---->index wise\n",
        "list_y\n",
        "del list_y[-2]\n",
        "list_y"
      ],
      "metadata": {
        "colab": {
          "base_uri": "https://localhost:8080/"
        },
        "id": "ftOccaM8dWvM",
        "outputId": "54bd53f3-7f4f-41bc-a22d-6f226b8fc40e"
      },
      "execution_count": 27,
      "outputs": [
        {
          "output_type": "execute_result",
          "data": {
            "text/plain": [
              "[70, 'php', 'H', 'e', 'l', 'l', 'o', 90]"
            ]
          },
          "metadata": {},
          "execution_count": 27
        }
      ]
    },
    {
      "cell_type": "code",
      "source": [
        "#copy ----->\n",
        "\n",
        "list_copy_y = list_y.copy( )\n",
        "list_copy_y"
      ],
      "metadata": {
        "colab": {
          "base_uri": "https://localhost:8080/"
        },
        "id": "AesK_6GOdWxE",
        "outputId": "ded3dbbf-2057-4b6c-caa5-39f2cf8f4526"
      },
      "execution_count": 28,
      "outputs": [
        {
          "output_type": "execute_result",
          "data": {
            "text/plain": [
              "[70, 'php', 'H', 'e', 'l', 'l', 'o', 90]"
            ]
          },
          "metadata": {},
          "execution_count": 28
        }
      ]
    },
    {
      "cell_type": "code",
      "source": [
        "#clear ----->\n",
        "list_copy_y.clear()\n",
        "list_copy_y"
      ],
      "metadata": {
        "colab": {
          "base_uri": "https://localhost:8080/"
        },
        "id": "SThTyNBXdWy3",
        "outputId": "4ffca8c7-8cbd-4918-e4f7-a341a158dc76"
      },
      "execution_count": 29,
      "outputs": [
        {
          "output_type": "execute_result",
          "data": {
            "text/plain": [
              "[]"
            ]
          },
          "metadata": {},
          "execution_count": 29
        }
      ]
    },
    {
      "cell_type": "code",
      "source": [
        "#reverse ------> reverse the current order\n",
        "list_y.reverse()\n",
        "list_y\n"
      ],
      "metadata": {
        "colab": {
          "base_uri": "https://localhost:8080/"
        },
        "id": "ac8ekY8edW1G",
        "outputId": "cffcc26d-32a1-4a3e-ffa0-d563378c2b0a"
      },
      "execution_count": 30,
      "outputs": [
        {
          "output_type": "execute_result",
          "data": {
            "text/plain": [
              "[90, 'o', 'l', 'l', 'e', 'H', 'php', 70]"
            ]
          },
          "metadata": {},
          "execution_count": 30
        }
      ]
    },
    {
      "cell_type": "code",
      "source": [
        "#pop (it deletes the last element of the list and prints it for the user)\n",
        "list_y.pop()"
      ],
      "metadata": {
        "colab": {
          "base_uri": "https://localhost:8080/"
        },
        "id": "V-QXg7SzdW3O",
        "outputId": "ab94cda9-bca8-4a82-9714-132556cbef4f"
      },
      "execution_count": 31,
      "outputs": [
        {
          "output_type": "execute_result",
          "data": {
            "text/plain": [
              "70"
            ]
          },
          "metadata": {},
          "execution_count": 31
        }
      ]
    },
    {
      "cell_type": "code",
      "source": [
        "list_y"
      ],
      "metadata": {
        "colab": {
          "base_uri": "https://localhost:8080/"
        },
        "id": "YsjybWrvdW47",
        "outputId": "bea0ded6-e452-4e79-e93c-40de03ca4d88"
      },
      "execution_count": 32,
      "outputs": [
        {
          "output_type": "execute_result",
          "data": {
            "text/plain": [
              "[90, 'o', 'l', 'l', 'e', 'H', 'php']"
            ]
          },
          "metadata": {},
          "execution_count": 32
        }
      ]
    },
    {
      "cell_type": "code",
      "source": [
        "#remove ( specify the element to be deleted by its name/ value)\n",
        "list_y"
      ],
      "metadata": {
        "id": "ZGpwKgqidW7u"
      },
      "execution_count": 18,
      "outputs": []
    },
    {
      "cell_type": "code",
      "source": [
        "list_y.remove(\"php\")\n",
        "list_y"
      ],
      "metadata": {
        "colab": {
          "base_uri": "https://localhost:8080/"
        },
        "id": "8jTffjHpdXJ-",
        "outputId": "b6a7842c-a146-40d4-e18b-145bebd56ee6"
      },
      "execution_count": 33,
      "outputs": [
        {
          "output_type": "execute_result",
          "data": {
            "text/plain": [
              "[90, 'o', 'l', 'l', 'e', 'H']"
            ]
          },
          "metadata": {},
          "execution_count": 33
        }
      ]
    },
    {
      "cell_type": "code",
      "source": [
        "#Tuples"
      ],
      "metadata": {
        "id": "wNu8b8BrdXMA"
      },
      "execution_count": 18,
      "outputs": []
    },
    {
      "cell_type": "code",
      "source": [
        "#similiar to list but immutable ( we can add del, edit, update etc...)"
      ],
      "metadata": {
        "id": "FasRI-d2dXN1"
      },
      "execution_count": 18,
      "outputs": []
    },
    {
      "cell_type": "code",
      "source": [
        "### creating a tuple"
      ],
      "metadata": {
        "id": "H3HpQmvGdXQC"
      },
      "execution_count": 18,
      "outputs": []
    },
    {
      "cell_type": "code",
      "source": [
        "tup_x = ('a','b','c','2','6','8','6')\n",
        "tup_x\n",
        "type(tup_x)"
      ],
      "metadata": {
        "colab": {
          "base_uri": "https://localhost:8080/"
        },
        "id": "Ffa8cxdIdXS3",
        "outputId": "5754e498-6a12-4104-e8bc-e37c905cfc98"
      },
      "execution_count": 35,
      "outputs": [
        {
          "output_type": "execute_result",
          "data": {
            "text/plain": [
              "tuple"
            ]
          },
          "metadata": {},
          "execution_count": 35
        }
      ]
    },
    {
      "cell_type": "code",
      "source": [
        "#nested\n",
        "tup_y = ('p','q',(10,11))\n",
        "print(tup_y)\n",
        "(type(tup_y))"
      ],
      "metadata": {
        "colab": {
          "base_uri": "https://localhost:8080/"
        },
        "id": "BggOXTyEfwfc",
        "outputId": "6b05431c-a149-4183-a8b9-37c32d63e56c"
      },
      "execution_count": 36,
      "outputs": [
        {
          "output_type": "stream",
          "name": "stdout",
          "text": [
            "('p', 'q', (10, 11))\n"
          ]
        },
        {
          "output_type": "execute_result",
          "data": {
            "text/plain": [
              "tuple"
            ]
          },
          "metadata": {},
          "execution_count": 36
        }
      ]
    },
    {
      "cell_type": "code",
      "source": [
        "#tuple with list\n",
        "\n",
        "tup_hyb =('x',['y','z',99])\n",
        "tup_hyb"
      ],
      "metadata": {
        "colab": {
          "base_uri": "https://localhost:8080/"
        },
        "id": "IY-Aab5hfwql",
        "outputId": "d2c7637f-b98c-459f-d09a-023e457c7f9d"
      },
      "execution_count": 37,
      "outputs": [
        {
          "output_type": "execute_result",
          "data": {
            "text/plain": [
              "('x', ['y', 'z', 99])"
            ]
          },
          "metadata": {},
          "execution_count": 37
        }
      ]
    },
    {
      "cell_type": "code",
      "source": [
        "###access"
      ],
      "metadata": {
        "id": "mtQzsiWSfwtW"
      },
      "execution_count": null,
      "outputs": []
    },
    {
      "cell_type": "code",
      "source": [
        "tup_hyb[0]"
      ],
      "metadata": {
        "colab": {
          "base_uri": "https://localhost:8080/",
          "height": 38
        },
        "id": "A1YCeS1BfwwL",
        "outputId": "4cbeb2aa-17ed-4eae-929c-208b1bb9c6cd"
      },
      "execution_count": 38,
      "outputs": [
        {
          "output_type": "execute_result",
          "data": {
            "text/plain": [
              "'x'"
            ],
            "application/vnd.google.colaboratory.intrinsic+json": {
              "type": "string"
            }
          },
          "metadata": {},
          "execution_count": 38
        }
      ]
    },
    {
      "cell_type": "code",
      "source": [
        "tup_hyb[-1]"
      ],
      "metadata": {
        "colab": {
          "base_uri": "https://localhost:8080/"
        },
        "id": "FmT54h1yfwzQ",
        "outputId": "fd07c5e5-94be-4b22-eca5-9d7df9421b07"
      },
      "execution_count": 39,
      "outputs": [
        {
          "output_type": "execute_result",
          "data": {
            "text/plain": [
              "['y', 'z', 99]"
            ]
          },
          "metadata": {},
          "execution_count": 39
        }
      ]
    },
    {
      "cell_type": "code",
      "source": [
        "#Operation"
      ],
      "metadata": {
        "id": "1fMgNvyBfw02"
      },
      "execution_count": null,
      "outputs": []
    },
    {
      "cell_type": "code",
      "source": [
        "len(tup_hyb)"
      ],
      "metadata": {
        "colab": {
          "base_uri": "https://localhost:8080/"
        },
        "id": "BAa7mLR-fw24",
        "outputId": "ba21bc61-1567-487c-829f-c02387a88ccb"
      },
      "execution_count": 41,
      "outputs": [
        {
          "output_type": "execute_result",
          "data": {
            "text/plain": [
              "2"
            ]
          },
          "metadata": {},
          "execution_count": 41
        }
      ]
    },
    {
      "cell_type": "code",
      "source": [
        "#count\n",
        "tup_repn = (1,1,4,8,10,11,1,3,2,5)\n",
        "tup_repn.count(1)"
      ],
      "metadata": {
        "colab": {
          "base_uri": "https://localhost:8080/"
        },
        "id": "Frfsoloufw4w",
        "outputId": "273da1e4-dfa6-4a70-fde9-268eab21572b"
      },
      "execution_count": 43,
      "outputs": [
        {
          "output_type": "execute_result",
          "data": {
            "text/plain": [
              "3"
            ]
          },
          "metadata": {},
          "execution_count": 43
        }
      ]
    },
    {
      "cell_type": "code",
      "source": [
        "# Original tuple of roll numbers\n",
        "tup_stu_dis = (612, 619, 711, 785, 791)\n",
        "\n",
        "# Convert tuple to list\n",
        "list_stu_dis = list(tup_stu_dis)\n",
        "\n",
        "# Roll number to be added\n",
        "new_roll = 797\n",
        "\n",
        "# Add only if not already present\n",
        "if new_roll not in list_stu_dis:\n",
        "    list_stu_dis.append(new_roll)\n",
        "\n",
        "# Convert back to tuple\n",
        "tup_stu_dis = tuple(list_stu_dis)\n",
        "\n",
        "# Print the modified tuple\n",
        "print(\"The modified tuple is:\", tup_stu_dis)\n"
      ],
      "metadata": {
        "colab": {
          "base_uri": "https://localhost:8080/"
        },
        "id": "SA8llXHrfw64",
        "outputId": "68e5e8ef-28d2-48e7-e7ea-da8443d33908"
      },
      "execution_count": 1,
      "outputs": [
        {
          "output_type": "stream",
          "name": "stdout",
          "text": [
            "The modified tuple is: (612, 619, 711, 785, 791, 797)\n"
          ]
        }
      ]
    },
    {
      "cell_type": "code",
      "source": [],
      "metadata": {
        "id": "nst1UfKifw8e"
      },
      "execution_count": null,
      "outputs": []
    },
    {
      "cell_type": "code",
      "source": [],
      "metadata": {
        "id": "AM0NYvuFfw_R"
      },
      "execution_count": null,
      "outputs": []
    },
    {
      "cell_type": "code",
      "source": [],
      "metadata": {
        "id": "Nm9YczmcfxE6"
      },
      "execution_count": null,
      "outputs": []
    },
    {
      "cell_type": "code",
      "source": [],
      "metadata": {
        "id": "TxN-xi4QfxGm"
      },
      "execution_count": null,
      "outputs": []
    },
    {
      "cell_type": "code",
      "source": [],
      "metadata": {
        "id": "KkVysLcNfxJa"
      },
      "execution_count": null,
      "outputs": []
    }
  ]
}